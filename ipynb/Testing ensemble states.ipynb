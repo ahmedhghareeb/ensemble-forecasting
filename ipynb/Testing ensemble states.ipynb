{
 "cells": [
  {
   "cell_type": "code",
   "execution_count": 8,
   "metadata": {
    "collapsed": true
   },
   "outputs": [],
   "source": [
    "import numpy as np\n",
    "import matplotlib.pyplot as plt\n",
    "import os\n",
    "import scipy.optimize as opt\n",
    "%matplotlib inline"
   ]
  },
  {
   "cell_type": "code",
   "execution_count": 7,
   "metadata": {},
   "outputs": [
    {
     "data": {
      "text/plain": [
       "((430, 48), (430, 48), (430, 48), (430, 48))"
      ]
     },
     "execution_count": 7,
     "metadata": {},
     "output_type": "execute_result"
    }
   ],
   "source": [
    "base_dir = 'D:\\\\Src\\\\ensemble-forecasting'  # home\n",
    "h = np.loadtxt(os.path.join(base_dir, 'data', '2011', '2011080100_hiromb_GI_60x434.txt')) - 37.356\n",
    "s = np.loadtxt(os.path.join(base_dir, 'data', '2011', '2011080100_swan_GI_48x434.txt'))\n",
    "n = np.loadtxt(os.path.join(base_dir, 'data', '2011', '2011080100_noswan_GI_48x434.txt'))\n",
    "m = np.loadtxt(os.path.join(base_dir, 'data', '2011', '2011080100_measurements_GI_2623.txt'))\n",
    "\n",
    "# forecast dimensions\n",
    "N = 430\n",
    "T = 48\n",
    "\n",
    "# preparing measurements forecast\n",
    "m_fc = np.zeros((N, T+1))\n",
    "for i in range(N):\n",
    "    for j in range(T+1):\n",
    "        m_fc[i, j] = m[i*6+j]\n",
    "\n",
    "# data cut and shifting\n",
    "shift_const = 0\n",
    "h = h[0:N, 1:T+1] + shift_const\n",
    "s = s[0:N, 1:T+1] + shift_const\n",
    "n = n[0:N, 1:T+1] + shift_const\n",
    "m_fc = m_fc[0:N, 1:T+1] + shift_const\n",
    "h.shape, s.shape, n.shape, m_fc.shape"
   ]
  },
  {
   "cell_type": "code",
   "execution_count": 18,
   "metadata": {},
   "outputs": [
    {
     "data": {
      "text/plain": [
       "[1, 2]"
      ]
     },
     "execution_count": 18,
     "metadata": {},
     "output_type": "execute_result"
    }
   ],
   "source": [
    "ensembles_mask = np.array([[i & 1, (i >> 1) & 1, (i >> 2) & 1] for i in range(1, 8)])\n",
    "def lin_comb(src, coeff):\n",
    "    res = np.full(src[0].shape, coeff[-1])\n",
    "    for i in range(len(src)):\n",
    "        res += src[i] * coeff[i]\n",
    "def get_coeff(mask, idcs):\n",
    "    srcs = [pair[0][idcs[1]:idcs[2]] for pair in zip([h, s, n], mask) if pair[1]]\n",
    "    return opt.minimize(lambda k: , np.full(sum(mask) + 1, 1.0, dtype=float))"
   ]
  },
  {
   "cell_type": "code",
   "execution_count": null,
   "metadata": {},
   "outputs": [],
   "source": []
  }
 ],
 "metadata": {
  "kernelspec": {
   "display_name": "Python 2",
   "language": "python",
   "name": "python2"
  },
  "language_info": {
   "codemirror_mode": {
    "name": "ipython",
    "version": 2
   },
   "file_extension": ".py",
   "mimetype": "text/x-python",
   "name": "python",
   "nbconvert_exporter": "python",
   "pygments_lexer": "ipython2",
   "version": "2.7.6"
  }
 },
 "nbformat": 4,
 "nbformat_minor": 0
}
