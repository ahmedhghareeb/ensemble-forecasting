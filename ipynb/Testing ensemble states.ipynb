{
 "cells": [
  {
   "cell_type": "code",
   "execution_count": 1,
   "metadata": {
    "collapsed": true
   },
   "outputs": [],
   "source": [
    "import numpy as np\n",
    "import matplotlib.pyplot as plt\n",
    "import os\n",
    "import scipy.optimize as opt\n",
    "%matplotlib inline"
   ]
  },
  {
   "cell_type": "code",
   "execution_count": 2,
   "metadata": {},
   "outputs": [
    {
     "data": {
      "text/plain": [
       "((430, 48), (430, 48), (430, 48), (430, 48))"
      ]
     },
     "execution_count": 2,
     "metadata": {},
     "output_type": "execute_result"
    }
   ],
   "source": [
    "# base_dir = 'D:\\\\Src\\\\ensemble-forecasting'  # work\n",
    "base_dir = '/media/iterater/DATA/_SRC_/ensemble-forecasting'  # home Ubuntu\n",
    "h = np.loadtxt(os.path.join(base_dir, 'data', '2011', '2011080100_hiromb_GI_60x434.txt')) - 37.356\n",
    "s = np.loadtxt(os.path.join(base_dir, 'data', '2011', '2011080100_swan_GI_48x434.txt'))\n",
    "n = np.loadtxt(os.path.join(base_dir, 'data', '2011', '2011080100_noswan_GI_48x434.txt'))\n",
    "m = np.loadtxt(os.path.join(base_dir, 'data', '2011', '2011080100_measurements_GI_2623.txt'))\n",
    "\n",
    "# forecast dimensions\n",
    "N = 430\n",
    "T = 48\n",
    "\n",
    "# preparing measurements forecast\n",
    "m_fc = np.zeros((N, T+1))\n",
    "for i in range(N):\n",
    "    for j in range(T+1):\n",
    "        m_fc[i, j] = m[i*6+j]\n",
    "\n",
    "# data cut and shifting\n",
    "shift_const = 0\n",
    "h = h[0:N, 1:T+1] + shift_const\n",
    "s = s[0:N, 1:T+1] + shift_const\n",
    "n = n[0:N, 1:T+1] + shift_const\n",
    "m_fc = m_fc[0:N, 1:T+1] + shift_const\n",
    "h.shape, s.shape, n.shape, m_fc.shape"
   ]
  },
  {
   "cell_type": "code",
   "execution_count": 28,
   "metadata": {},
   "outputs": [
    {
     "data": {
      "text/plain": [
       "[array([ 1.04341988,  0.        ,  0.        ,  4.2707991 ]),\n array([ 0.        ,  0.97928234,  0.        ,  2.27498968]),\n array([ 0.63596186,  0.63596186,  0.        ,  2.96451602]),\n array([ 0.        ,  0.        ,  1.05019829,  0.1644646 ]),\n array([ 0.63634796,  0.        ,  0.63634796,  1.74742268]),\n array([ 0.        ,  0.56571055,  0.56571055,  1.10209056]),\n array([ 0.61148834,  0.61148834,  0.61148834,  1.81959672])]"
      ]
     },
     "execution_count": 28,
     "metadata": {},
     "output_type": "execute_result"
    }
   ],
   "source": [
    "ensembles_mask = np.array([[i & 1, (i >> 1) & 1, (i >> 2) & 1] for i in range(1, 8)])\n",
    "def lin_comb(src, coeff):\n",
    "    res = np.full(src[0].shape, coeff[-1])\n",
    "    for i in range(len(src)):\n",
    "        res += src[i] * coeff[i]\n",
    "    return res\n",
    "def get_coeff(mask, idcs):\n",
    "    srcs = [pair[0][idcs[0]:idcs[1]] for pair in zip([h, s, n], mask) if pair[1]]\n",
    "    res_coeff = np.zeros(4)\n",
    "    res_coeff_pack = opt.minimize(lambda k: np.mean(np.abs(lin_comb(srcs, k) - m_fc[idcs[0]:idcs[1]])),\n",
    "                                  np.full(sum(mask) + 1, 1.0, dtype=float)).x\n",
    "    pos = np.where(mask)\n",
    "    for i in range(len(pos)):\n",
    "        res_coeff[pos[i]] = res_coeff_pack[i]\n",
    "    res_coeff[-1] = res_coeff_pack[-1]\n",
    "    return res_coeff\n",
    "[get_coeff(msk, (0,N)) for msk in ensembles_mask]"
   ]
  },
  {
   "cell_type": "code",
   "execution_count": 25,
   "metadata": {},
   "outputs": [
    {
     "data": {
      "text/plain": [
       "(array([0, 1]),)"
      ]
     },
     "execution_count": 25,
     "metadata": {},
     "output_type": "execute_result"
    }
   ],
   "source": [
    ""
   ]
  },
  {
   "cell_type": "code",
   "execution_count": null,
   "metadata": {},
   "outputs": [],
   "source": [
    ""
   ]
  }
 ],
 "metadata": {
  "kernelspec": {
   "display_name": "Python 2",
   "language": "python",
   "name": "python2"
  },
  "language_info": {
   "codemirror_mode": {
    "name": "ipython",
    "version": 2.0
   },
   "file_extension": ".py",
   "mimetype": "text/x-python",
   "name": "python",
   "nbconvert_exporter": "python",
   "pygments_lexer": "ipython2",
   "version": "2.7.6"
  }
 },
 "nbformat": 4,
 "nbformat_minor": 0
}