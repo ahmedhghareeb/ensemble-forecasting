{
 "cells": [
  {
   "cell_type": "code",
   "execution_count": 78,
   "metadata": {
    "collapsed": true
   },
   "outputs": [],
   "source": [
    "%matplotlib inline\n",
    "import numpy as np\n",
    "from sklearn.decomposition import PCA\n",
    "import matplotlib.pyplot as plt\n",
    "import seaborn as sns\n",
    "import pandas as pd"
   ]
  },
  {
   "cell_type": "markdown",
   "metadata": {},
   "source": [
    "# Data preparation\n",
    "Reading forecasts and observations"
   ]
  },
  {
   "cell_type": "code",
   "execution_count": 79,
   "metadata": {
    "collapsed": false
   },
   "outputs": [
    {
     "data": {
      "text/plain": [
       "((281, 61), (281, 61), (281, 61), (281, 61))"
      ]
     },
     "execution_count": 79,
     "metadata": {},
     "output_type": "execute_result"
    }
   ],
   "source": [
    "# forecast dimensions\n",
    "N = 281\n",
    "T = 60\n",
    "# base_dir = 'd:/GitHub/python-2-work/' # work\n",
    "base_dir = 'd:/_SRC_/ensemble-forecasting/' # home\n",
    "fc_hiromb = np.loadtxt(base_dir + 'data/ensemble-forecasts/2013102012-HIROMB-S1.txt')[:N, :T+1] - 37.356\n",
    "fc_baltp = np.loadtxt(base_dir + 'data/ensemble-forecasts/2013102012-BALTP-90M-GFS-S1.txt')[:N, :T+1]\n",
    "fc_bsm = np.loadtxt(base_dir + 'data/ensemble-forecasts/2013102012-BSM-WOWC-HIRLAM-S1.txt')[:N, :T+1]\n",
    "m = np.loadtxt(base_dir + 'data/ensemble-forecasts/2013102012-M-GI_C1NB_C1FG_SHEP_restored.txt')\n",
    "# preparing measurements forecast\n",
    "fc_m = np.zeros((N, T+1))\n",
    "for i in range(N):\n",
    "    for j in range(T+1):\n",
    "        fc_m[i, j] = m[i*6+j, 2]\n",
    "fc_hiromb.shape, fc_baltp.shape, fc_bsm.shape, fc_m.shape"
   ]
  },
  {
   "cell_type": "markdown",
   "metadata": {},
   "source": [
    "Selecting peaks"
   ]
  },
  {
   "cell_type": "code",
   "execution_count": 80,
   "metadata": {
    "collapsed": false
   },
   "outputs": [
    {
     "data": {
      "text/plain": [
       "array([[ 26,  54,  56,  58],\n",
       "       [ 27,  48,  51,  53],\n",
       "       [ 28,  42,  43,  45],\n",
       "       [ 30,  32,  34,  35],\n",
       "       [ 31,  26,  28,  30],\n",
       "       [ 32,  21,  23,  26],\n",
       "       [ 35,   4,   5,   5],\n",
       "       [ 36,   0,   0,   1],\n",
       "       [ 77,  39,  42,  44],\n",
       "       [ 78,  34,  36,  39],\n",
       "       [ 79,  29,  30,  31],\n",
       "       [ 80,  23,  24,  24],\n",
       "       [ 82,  12,  12,  12],\n",
       "       [ 83,   5,   6,   7],\n",
       "       [101,  58,  60,  60],\n",
       "       [102,  54,  59,  60],\n",
       "       [103,  48,  53,  56],\n",
       "       [104,  43,  47,  50],\n",
       "       [105,  36,  41,  44],\n",
       "       [106,  30,  36,  40],\n",
       "       [107,  23,  30,  34],\n",
       "       [108,  18,  25,  29],\n",
       "       [109,  13,  19,  22],\n",
       "       [110,  10,  13,  15],\n",
       "       [111,   4,   7,   8],\n",
       "       [112,   0,   1,   3],\n",
       "       [146,  58,  59,  60],\n",
       "       [147,  53,  53,  53],\n",
       "       [148,  47,  47,  48],\n",
       "       [151,  28,  30,  31],\n",
       "       [161,  47,  47,  47],\n",
       "       [162,  41,  42,  43],\n",
       "       [178,  48,  50,  51],\n",
       "       [204,  60,  60,  60],\n",
       "       [205,  54,  60,  60],\n",
       "       [206,  48,  55,  59],\n",
       "       [207,  44,  50,  54],\n",
       "       [208,  37,  42,  47],\n",
       "       [209,  28,  35,  41],\n",
       "       [210,  22,  30,  35],\n",
       "       [211,  18,  24,  29],\n",
       "       [212,  13,  19,  23],\n",
       "       [213,   6,  12,  17],\n",
       "       [214,   0,   6,  11],\n",
       "       [215,   0,   0,   4],\n",
       "       [248,  55,  58,  60],\n",
       "       [249,  51,  52,  54],\n",
       "       [250,  42,  43,  43]], dtype=int64)"
      ]
     },
     "execution_count": 80,
     "metadata": {},
     "output_type": "execute_result"
    }
   ],
   "source": [
    "def get_peak_index(fc, guard_level, k):\n",
    "    mask = fc > guard_level\n",
    "    r_mask = np.concatenate(([False,], mask[:-1]))\n",
    "    l_mask = np.concatenate((mask[1:], [False,]))\n",
    "    idx = np.array([np.where(mask & ~r_mask)[0], np.where(mask & ~l_mask)[0]])    \n",
    "    res_idx = np.empty((0, 4), int)\n",
    "    for i in range(idx.shape[1]):\n",
    "        res_idx = np.vstack((res_idx,\n",
    "                             [k, idx[0, i], np.argmax(fc[idx[0, i]:idx[1, i] + 1]) + idx[0, i], idx[1, i]]))\n",
    "    return res_idx\n",
    "res_idx = np.empty((0, 4), int)\n",
    "for i in range(N):\n",
    "    res_idx = np.vstack((res_idx, get_peak_index(fc_baltp[i], 120, i)))\n",
    "res_idx"
   ]
  },
  {
   "cell_type": "code",
   "execution_count": null,
   "metadata": {
    "collapsed": true
   },
   "outputs": [],
   "source": []
  }
 ],
 "metadata": {
  "kernelspec": {
   "display_name": "Python 3",
   "language": "python",
   "name": "python3"
  },
  "language_info": {
   "codemirror_mode": {
    "name": "ipython",
    "version": 3
   },
   "file_extension": ".py",
   "mimetype": "text/x-python",
   "name": "python",
   "nbconvert_exporter": "python",
   "pygments_lexer": "ipython3",
   "version": "3.4.4"
  }
 },
 "nbformat": 4,
 "nbformat_minor": 0
}
